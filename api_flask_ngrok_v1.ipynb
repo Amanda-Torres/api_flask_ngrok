{
  "cells": [
    {
      "cell_type": "markdown",
      "metadata": {
        "id": "view-in-github",
        "colab_type": "text"
      },
      "source": [
        "<a href=\"https://colab.research.google.com/github/Amanda-Torres/api_flask_ngrok/blob/main/api_flask_ngrok_v1.ipynb\" target=\"_parent\"><img src=\"https://colab.research.google.com/assets/colab-badge.svg\" alt=\"Open In Colab\"/></a>"
      ]
    },
    {
      "cell_type": "markdown",
      "metadata": {
        "id": "ToQJVzGCqAMJ"
      },
      "source": [
        "### Instalando bibliotecas"
      ]
    },
    {
      "cell_type": "code",
      "execution_count": null,
      "metadata": {
        "id": "2bK4T6SparO7",
        "colab": {
          "base_uri": "https://localhost:8080/"
        },
        "outputId": "e2666fac-b920-4001-b3e7-05afe2ac8dc1"
      },
      "outputs": [
        {
          "output_type": "stream",
          "name": "stdout",
          "text": [
            "Requirement already satisfied: flask in /usr/local/lib/python3.10/dist-packages (2.2.5)\n",
            "Requirement already satisfied: Werkzeug>=2.2.2 in /usr/local/lib/python3.10/dist-packages (from flask) (3.0.3)\n",
            "Requirement already satisfied: Jinja2>=3.0 in /usr/local/lib/python3.10/dist-packages (from flask) (3.1.4)\n",
            "Requirement already satisfied: itsdangerous>=2.0 in /usr/local/lib/python3.10/dist-packages (from flask) (2.2.0)\n",
            "Requirement already satisfied: click>=8.0 in /usr/local/lib/python3.10/dist-packages (from flask) (8.1.7)\n",
            "Requirement already satisfied: MarkupSafe>=2.0 in /usr/local/lib/python3.10/dist-packages (from Jinja2>=3.0->flask) (2.1.5)\n"
          ]
        }
      ],
      "source": [
        "!pip install flask"
      ]
    },
    {
      "cell_type": "code",
      "execution_count": null,
      "metadata": {
        "id": "HbqhZAcJnaZg",
        "colab": {
          "base_uri": "https://localhost:8080/"
        },
        "outputId": "561f771d-0b57-4e4b-83c9-d3fe28ae0dc1"
      },
      "outputs": [
        {
          "output_type": "stream",
          "name": "stdout",
          "text": [
            "Requirement already satisfied: pyngrok in /usr/local/lib/python3.10/dist-packages (7.1.6)\n",
            "Requirement already satisfied: PyYAML>=5.1 in /usr/local/lib/python3.10/dist-packages (from pyngrok) (6.0.1)\n"
          ]
        }
      ],
      "source": [
        "!pip install pyngrok"
      ]
    },
    {
      "cell_type": "markdown",
      "metadata": {
        "id": "wh0HXRsEqPGC"
      },
      "source": [
        "### Importando bibliotecas"
      ]
    },
    {
      "cell_type": "code",
      "execution_count": null,
      "metadata": {
        "id": "aEt27AwbnIrI"
      },
      "outputs": [],
      "source": [
        "from pyngrok import ngrok\n",
        "from flask import Flask\n",
        "from google.colab import userdata"
      ]
    },
    {
      "cell_type": "markdown",
      "metadata": {
        "id": "ytE8_tioqUFK"
      },
      "source": [
        "### Configurações do Ngrok"
      ]
    },
    {
      "cell_type": "code",
      "execution_count": null,
      "metadata": {
        "id": "yJYEdQlRnllo",
        "colab": {
          "base_uri": "https://localhost:8080/"
        },
        "outputId": "2a4f1f8b-f6ec-471f-e5f4-1a69ec18f23f"
      },
      "outputs": [
        {
          "output_type": "stream",
          "name": "stdout",
          "text": [
            " Public URL : NgrokTunnel: \"https://f7ff-34-75-214-177.ngrok-free.app\" -> \"http://localhost:5000\"\n"
          ]
        }
      ],
      "source": [
        "authtoken = userdata.get(\"NGROK_AUTHTOKEN\")\n",
        "ngrok.set_auth_token(authtoken)\n",
        "\n",
        "# Criando tunel na porta 5000\n",
        "public_url = ngrok.connect(5000)\n",
        "print(f\" Public URL : {public_url}\")"
      ]
    },
    {
      "cell_type": "markdown",
      "metadata": {
        "id": "TLQHJBiYqGr_"
      },
      "source": [
        "### Criando Funções"
      ]
    },
    {
      "cell_type": "code",
      "execution_count": null,
      "metadata": {
        "id": "aQcm_R_Tn2EY"
      },
      "outputs": [],
      "source": [
        "def listar_alunos():\n",
        "  alunos = []\n",
        "  with open('chat.txt', 'r') as file:\n",
        "    for line in file:\n",
        "      if 'From' in line and 'To Everyone:' in line:\n",
        "        aluno = line.split('From')[1].split('To Everyone:')[0].strip()\n",
        "        alunos.append(aluno)\n",
        "        alunos_presentes = set(alunos)\n",
        "  return list(alunos_presentes)"
      ]
    },
    {
      "cell_type": "code",
      "execution_count": null,
      "metadata": {
        "id": "yK9q3-stRVJ9"
      },
      "outputs": [],
      "source": [
        "def verificar_presenca_aluno(nome):\n",
        "    alunos = listar_alunos()\n",
        "    if nome in alunos:\n",
        "        return f'O aluno {nome} está presente.'\n",
        "    else:\n",
        "        return f'O aluno {nome} não está presente.'"
      ]
    },
    {
      "cell_type": "markdown",
      "metadata": {
        "id": "rxs8vrIwqwzz"
      },
      "source": [
        "### Aplicação Flask"
      ]
    },
    {
      "cell_type": "code",
      "execution_count": null,
      "metadata": {
        "colab": {
          "base_uri": "https://localhost:8080/"
        },
        "id": "X1o7tDDodaIb",
        "outputId": "8466addd-de96-48dc-aeaa-24f5f5c718df"
      },
      "outputs": [
        {
          "metadata": {
            "tags": null
          },
          "name": "stdout",
          "output_type": "stream",
          "text": [
            " * Serving Flask app '__main__'\n",
            " * Debug mode: off\n"
          ]
        },
        {
          "metadata": {
            "tags": null
          },
          "name": "stderr",
          "output_type": "stream",
          "text": [
            "INFO:werkzeug:\u001b[31m\u001b[1mWARNING: This is a development server. Do not use it in a production deployment. Use a production WSGI server instead.\u001b[0m\n",
            " * Running on all addresses (0.0.0.0)\n",
            " * Running on http://127.0.0.1:5000\n",
            " * Running on http://172.28.0.12:5000\n",
            "INFO:werkzeug:\u001b[33mPress CTRL+C to quit\u001b[0m\n",
            "INFO:werkzeug:127.0.0.1 - - [25/Jun/2024 00:55:12] \"\u001b[33mGET / HTTP/1.1\u001b[0m\" 404 -\n",
            "INFO:werkzeug:127.0.0.1 - - [25/Jun/2024 00:55:12] \"\u001b[33mGET /favicon.ico HTTP/1.1\u001b[0m\" 404 -\n",
            "INFO:werkzeug:127.0.0.1 - - [25/Jun/2024 00:55:23] \"GET /procurar_aluno/Thor HTTP/1.1\" 200 -\n",
            "INFO:werkzeug:127.0.0.1 - - [25/Jun/2024 00:55:30] \"GET /procurar_aluno/Batman HTTP/1.1\" 200 -\n",
            "INFO:werkzeug:127.0.0.1 - - [25/Jun/2024 00:55:39] \"GET /procurar_aluno/Bruce%20Wane HTTP/1.1\" 200 -\n",
            "INFO:werkzeug:127.0.0.1 - - [25/Jun/2024 00:55:44] \"GET /procurar_aluno/Bruce%20Wany HTTP/1.1\" 200 -\n",
            "INFO:werkzeug:127.0.0.1 - - [25/Jun/2024 00:55:56] \"GET /procurar_aluno/Bruce%20Waney HTTP/1.1\" 200 -\n",
            "INFO:werkzeug:127.0.0.1 - - [25/Jun/2024 00:56:06] \"GET /lista_presença HTTP/1.1\" 200 -\n",
            "INFO:werkzeug:127.0.0.1 - - [25/Jun/2024 00:56:30] \"GET /procurar_aluno/Barry%20Allen HTTP/1.1\" 200 -\n",
            "INFO:werkzeug:127.0.0.1 - - [25/Jun/2024 01:04:29] \"GET /procurar_aluno/Thor HTTP/1.1\" 200 -\n",
            "INFO:werkzeug:127.0.0.1 - - [25/Jun/2024 01:04:35] \"GET /procurar_aluno/Amanda HTTP/1.1\" 200 -\n"
          ]
        }
      ],
      "source": [
        "app = Flask (__name__) # O formato __name__ é conhecido como dumdl em python\n",
        "\n",
        "@app.route('/lista_presença')\n",
        "def lista_presença():\n",
        "  alunos = listar_alunos()\n",
        "  return alunos\n",
        "\n",
        "@app.route('/procurar_aluno/<aluno>')\n",
        "def procurar_aluno(aluno):\n",
        "  resultado = verificar_presenca_aluno(aluno)\n",
        "  return resultado\n",
        "\n",
        "if __name__== '__main__':\n",
        "   app.run(host= '0.0.0.0', port=5000)"
      ]
    }
  ],
  "metadata": {
    "colab": {
      "provenance": [],
      "authorship_tag": "ABX9TyMRb9TBCnqrI7QQNTc1b3PX",
      "include_colab_link": true
    },
    "kernelspec": {
      "display_name": "Python 3",
      "name": "python3"
    },
    "language_info": {
      "name": "python"
    }
  },
  "nbformat": 4,
  "nbformat_minor": 0
}