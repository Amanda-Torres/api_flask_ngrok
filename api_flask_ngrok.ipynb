{
  "cells": [
    {
      "cell_type": "markdown",
      "metadata": {
        "id": "view-in-github",
        "colab_type": "text"
      },
      "source": [
        "<a href=\"https://colab.research.google.com/github/Amanda-Torres/api_flask_ngrok/blob/main/api_flask_ngrok.ipynb\" target=\"_parent\"><img src=\"https://colab.research.google.com/assets/colab-badge.svg\" alt=\"Open In Colab\"/></a>"
      ]
    },
    {
      "cell_type": "markdown",
      "metadata": {
        "id": "1Lgm-gQTqmWf"
      },
      "source": [
        "### Instalando bibliotecas"
      ]
    },
    {
      "cell_type": "code",
      "execution_count": 1,
      "metadata": {
        "colab": {
          "base_uri": "https://localhost:8080/"
        },
        "id": "FFDU0sLIZY8V",
        "outputId": "c1f20bf5-bd3d-41bd-c91f-4d7a235f2f27"
      },
      "outputs": [
        {
          "output_type": "stream",
          "name": "stdout",
          "text": [
            "\u001b[?25l     \u001b[90m━━━━━━━━━━━━━━━━━━━━━━━━━━━━━━━━━━━━━━━━\u001b[0m \u001b[32m0.0/101.7 kB\u001b[0m \u001b[31m?\u001b[0m eta \u001b[36m-:--:--\u001b[0m\r\u001b[2K     \u001b[91m━━━━━━━━━━━━━━━━\u001b[0m\u001b[90m╺\u001b[0m\u001b[90m━━━━━━━━━━━━━━━━━━━━━━━\u001b[0m \u001b[32m41.0/101.7 kB\u001b[0m \u001b[31m1.1 MB/s\u001b[0m eta \u001b[36m0:00:01\u001b[0m\r\u001b[2K     \u001b[90m━━━━━━━━━━━━━━━━━━━━━━━━━━━━━━━━━━━━━━━━\u001b[0m \u001b[32m101.7/101.7 kB\u001b[0m \u001b[31m1.3 MB/s\u001b[0m eta \u001b[36m0:00:00\u001b[0m\n",
            "\u001b[?25h\u001b[31mERROR: Cannot uninstall 'blinker'. It is a distutils installed project and thus we cannot accurately determine which files belong to it which would lead to only a partial uninstall.\u001b[0m\u001b[31m\n",
            "\u001b[0m"
          ]
        }
      ],
      "source": [
        "!pip install -Uq Flask\n",
        "!pip install -Uq pyngrok\n",
        "!pip install -Uq flask-cors"
      ]
    },
    {
      "cell_type": "code",
      "execution_count": 2,
      "metadata": {
        "colab": {
          "base_uri": "https://localhost:8080/"
        },
        "id": "W70O2bRHfSwv",
        "outputId": "22359af8-f183-4ded-b753-60bae053cf8c"
      },
      "outputs": [
        {
          "output_type": "stream",
          "name": "stdout",
          "text": [
            "Mounted at /content/drive\n"
          ]
        }
      ],
      "source": [
        "from google.colab import drive\n",
        "drive.mount('/content/drive')"
      ]
    },
    {
      "cell_type": "markdown",
      "metadata": {
        "id": "bUyhK14sq6xS"
      },
      "source": [
        "### Importando bibliotecas"
      ]
    },
    {
      "cell_type": "code",
      "execution_count": 3,
      "metadata": {
        "id": "Fw53gLH9rNuz"
      },
      "outputs": [],
      "source": [
        "from pyngrok import ngrok\n",
        "from google.colab import userdata\n",
        "from flask import Flask, jsonify, request\n",
        "from flask_cors import CORS"
      ]
    },
    {
      "cell_type": "markdown",
      "metadata": {
        "id": "pGWlWAPUrc0-"
      },
      "source": [
        "### Configurações do Ngrok"
      ]
    },
    {
      "cell_type": "code",
      "execution_count": 10,
      "metadata": {
        "colab": {
          "base_uri": "https://localhost:8080/"
        },
        "id": "iY_THczjaT4j",
        "outputId": "10e4f0e4-28f3-4354-b26c-90fbc15ad409"
      },
      "outputs": [
        {
          "output_type": "stream",
          "name": "stdout",
          "text": [
            "Public URL: NgrokTunnel: \"https://6ad7-34-86-128-22.ngrok-free.app\" -> \"http://localhost:5000\"\n"
          ]
        }
      ],
      "source": [
        "authtoken = userdata.get('NGROK_AUTHTOKEN')\n",
        "ngrok.set_auth_token(authtoken)\n",
        "\n",
        "# Crie um túnel HTTP na porta 5000\n",
        "public_url = ngrok.connect(5000)\n",
        "print(f\"Public URL: {public_url}\")"
      ]
    },
    {
      "cell_type": "markdown",
      "metadata": {
        "id": "Ew8K9PCQrnMc"
      },
      "source": [
        "### Criando Funções"
      ]
    },
    {
      "cell_type": "code",
      "execution_count": 11,
      "metadata": {
        "id": "ZU6KUPwJWliv"
      },
      "outputs": [],
      "source": [
        "def listar_alunos(filepath):\n",
        "    \"\"\"\n",
        "    Função para listar alunos que participaram do chat.\n",
        "\n",
        "    Args:\n",
        "        filepath (str): O caminho para o arquivo de texto contendo as mensagens do chat.\n",
        "\n",
        "    Returns:\n",
        "        list: Uma lista de alunos únicos que participaram do chat.\n",
        "    \"\"\"\n",
        "    alunos = set()  # Usar um conjunto para garantir unicidade\n",
        "    with open(filepath, 'r') as file:\n",
        "        for line in file:\n",
        "            if 'From ' in line and 'To Everyone:' in line:\n",
        "                aluno = line.split('From ')[1].split(' To Everyone:')[0]\n",
        "                alunos.add(aluno)\n",
        "    return list(alunos)  # Converter de volta para lista antes de retornar"
      ]
    },
    {
      "cell_type": "code",
      "execution_count": 13,
      "metadata": {
        "id": "dwGMwP7bh3Zf"
      },
      "outputs": [],
      "source": [
        "def listar_mensagens_de_aluno(filepath, aluno):\n",
        "    \"\"\"\n",
        "    Função para listar todas as mensagens de um aluno específico.\n",
        "\n",
        "    Args:\n",
        "        filepath (str): O caminho para o arquivo de texto contendo as mensagens do chat.\n",
        "        aluno (str): O nome do aluno cujas mensagens devem ser listadas.\n",
        "\n",
        "    Returns:\n",
        "        list: Uma lista de mensagens enviadas pelo aluno especificado.\n",
        "    \"\"\"\n",
        "    mensagens_do_aluno = []\n",
        "    with open(filepath, 'r') as file:\n",
        "        for line in file:\n",
        "            if 'From ' in line and 'To Everyone:' in line:\n",
        "                participante = line.split('From ')[1].split(' To Everyone:')[0]\n",
        "                if participante == aluno:\n",
        "                    mensagem = next(file).strip()\n",
        "                    mensagens_do_aluno.append(mensagem)\n",
        "    return mensagens_do_aluno\n"
      ]
    },
    {
      "cell_type": "code",
      "execution_count": 12,
      "metadata": {
        "id": "d7JeAglAkx4R"
      },
      "outputs": [],
      "source": [
        "def encontrar_alunos_por_resposta(filepath, palavra):\n",
        "    \"\"\"\n",
        "    Função para encontrar todos os alunos que responderam uma chamada com uma determinada palavra.\n",
        "\n",
        "    Args:\n",
        "        filepath (str): O caminho para o arquivo de texto contendo as mensagens do chat.\n",
        "        palavra (str): A palavra a ser buscada nas respostas dos alunos.\n",
        "\n",
        "    Returns:\n",
        "        list: Uma lista de alunos que mencionaram a palavra em suas respostas.\n",
        "    \"\"\"\n",
        "    alunos_com_resposta = set()\n",
        "    with open(filepath, 'r') as file:\n",
        "        for line in file:\n",
        "            if 'From ' in line and 'To Everyone:' in line:\n",
        "                participante = line.split('From ')[1].split(' To Everyone:')[0]\n",
        "                resposta = next(file).strip()\n",
        "                if palavra in resposta:\n",
        "                    alunos_com_resposta.add(participante)\n",
        "    return list(alunos_com_resposta)"
      ]
    },
    {
      "cell_type": "code",
      "execution_count": 14,
      "metadata": {
        "id": "GElTX3Umfa1U"
      },
      "outputs": [],
      "source": [
        "def aluno_rei_do_chat(filepath):\n",
        "    \"\"\"\n",
        "    Função para encontrar o aluno que mais participou do diálogo no chat.\n",
        "\n",
        "    Args:\n",
        "        filepath (str): O caminho para o arquivo de texto contendo as mensagens do chat.\n",
        "\n",
        "    Returns:\n",
        "        dict: Um dicionário com o aluno que mais participou e o número de mensagens enviadas.\n",
        "    \"\"\"\n",
        "    participant_activity = {}\n",
        "    with open(filepath, 'r') as file:\n",
        "        for line in file:\n",
        "            if 'From ' in line and 'To Everyone:' in line:\n",
        "                participant = line.split('From ')[1].split(' To Everyone:')[0]\n",
        "                participant_activity[participant] = participant_activity.get(participant, 0) + 1\n",
        "\n",
        "    if not participant_activity:\n",
        "        return {\"error\": \"Nenhuma mensagem encontrada no arquivo\"}\n",
        "\n",
        "    most_active_participant = max(participant_activity.items(), key=lambda x: x[1])\n",
        "\n",
        "    return {\n",
        "        \"most_active_participant\": most_active_participant[0],\n",
        "        \"message_count\": most_active_participant[1]\n",
        "    }"
      ]
    },
    {
      "cell_type": "markdown",
      "metadata": {
        "id": "8AlrSBP8r6zp"
      },
      "source": [
        "### Aplicação Flask"
      ]
    },
    {
      "cell_type": "code",
      "execution_count": 15,
      "metadata": {
        "colab": {
          "base_uri": "https://localhost:8080/"
        },
        "id": "nH0KgvDIaNtI",
        "outputId": "5084d775-1361-4735-af40-b830cda227b9"
      },
      "outputs": [
        {
          "output_type": "stream",
          "name": "stdout",
          "text": [
            " * Serving Flask app '__main__'\n",
            " * Debug mode: off\n"
          ]
        },
        {
          "output_type": "stream",
          "name": "stderr",
          "text": [
            "INFO:werkzeug:\u001b[31m\u001b[1mWARNING: This is a development server. Do not use it in a production deployment. Use a production WSGI server instead.\u001b[0m\n",
            " * Running on all addresses (0.0.0.0)\n",
            " * Running on http://127.0.0.1:5000\n",
            " * Running on http://172.28.0.12:5000\n",
            "INFO:werkzeug:\u001b[33mPress CTRL+C to quit\u001b[0m\n",
            "INFO:werkzeug:127.0.0.1 - - [24/Jun/2024 23:21:57] \"GET / HTTP/1.1\" 200 -\n",
            "INFO:werkzeug:127.0.0.1 - - [24/Jun/2024 23:21:58] \"\u001b[33mGET /favicon.ico HTTP/1.1\u001b[0m\" 404 -\n",
            "INFO:werkzeug:127.0.0.1 - - [24/Jun/2024 23:25:35] \"OPTIONS /rei_do_chat HTTP/1.1\" 200 -\n",
            "INFO:werkzeug:127.0.0.1 - - [24/Jun/2024 23:25:35] \"GET /rei_do_chat HTTP/1.1\" 200 -\n",
            "INFO:werkzeug:127.0.0.1 - - [24/Jun/2024 23:25:37] \"OPTIONS /listar_alunos HTTP/1.1\" 200 -\n",
            "INFO:werkzeug:127.0.0.1 - - [24/Jun/2024 23:25:37] \"GET /listar_alunos HTTP/1.1\" 200 -\n",
            "INFO:werkzeug:127.0.0.1 - - [24/Jun/2024 23:26:22] \"OPTIONS /find_response/Batman HTTP/1.1\" 200 -\n",
            "INFO:werkzeug:127.0.0.1 - - [24/Jun/2024 23:26:22] \"GET /find_response/Batman HTTP/1.1\" 200 -\n",
            "INFO:werkzeug:127.0.0.1 - - [24/Jun/2024 23:28:03] \"OPTIONS /find_response/Batman HTTP/1.1\" 200 -\n",
            "INFO:werkzeug:127.0.0.1 - - [24/Jun/2024 23:28:04] \"GET /find_response/Batman HTTP/1.1\" 200 -\n",
            "INFO:werkzeug:127.0.0.1 - - [24/Jun/2024 23:28:13] \"\u001b[33mOPTIONS /procurar_aluno/Bruce%20Wayne HTTP/1.1\u001b[0m\" 404 -\n",
            "INFO:werkzeug:127.0.0.1 - - [24/Jun/2024 23:29:19] \"OPTIONS /mensagens_do_aluno/Bruce%20Wayne HTTP/1.1\" 200 -\n",
            "INFO:werkzeug:127.0.0.1 - - [24/Jun/2024 23:29:19] \"GET /mensagens_do_aluno/Bruce%20Wayne HTTP/1.1\" 200 -\n",
            "INFO:werkzeug:127.0.0.1 - - [24/Jun/2024 23:33:43] \"OPTIONS /mensagens_do_aluno/Bruce%20Wayne HTTP/1.1\" 200 -\n",
            "INFO:werkzeug:127.0.0.1 - - [24/Jun/2024 23:33:43] \"GET /mensagens_do_aluno/Bruce%20Wayne HTTP/1.1\" 200 -\n",
            "INFO:werkzeug:127.0.0.1 - - [24/Jun/2024 23:34:03] \"OPTIONS /listar_alunos HTTP/1.1\" 200 -\n",
            "INFO:werkzeug:127.0.0.1 - - [24/Jun/2024 23:34:04] \"GET /listar_alunos HTTP/1.1\" 200 -\n",
            "INFO:werkzeug:127.0.0.1 - - [24/Jun/2024 23:34:16] \"OPTIONS /mensagens_do_aluno/Bruce%20Wayne HTTP/1.1\" 200 -\n",
            "INFO:werkzeug:127.0.0.1 - - [24/Jun/2024 23:34:16] \"GET /mensagens_do_aluno/Bruce%20Wayne HTTP/1.1\" 200 -\n",
            "INFO:werkzeug:127.0.0.1 - - [24/Jun/2024 23:35:49] \"OPTIONS /mensagens_do_aluno/Thor HTTP/1.1\" 200 -\n",
            "INFO:werkzeug:127.0.0.1 - - [24/Jun/2024 23:35:50] \"GET /mensagens_do_aluno/Thor HTTP/1.1\" 200 -\n",
            "INFO:werkzeug:127.0.0.1 - - [24/Jun/2024 23:39:58] \"OPTIONS /mensagens_do_aluno/Thor HTTP/1.1\" 200 -\n",
            "INFO:werkzeug:127.0.0.1 - - [24/Jun/2024 23:39:59] \"GET /mensagens_do_aluno/Thor HTTP/1.1\" 200 -\n",
            "INFO:werkzeug:127.0.0.1 - - [24/Jun/2024 23:40:12] \"OPTIONS /listar_alunos HTTP/1.1\" 200 -\n",
            "INFO:werkzeug:127.0.0.1 - - [24/Jun/2024 23:40:13] \"GET /listar_alunos HTTP/1.1\" 200 -\n",
            "INFO:werkzeug:127.0.0.1 - - [24/Jun/2024 23:40:17] \"OPTIONS /mensagens_do_aluno/Thor HTTP/1.1\" 200 -\n",
            "INFO:werkzeug:127.0.0.1 - - [24/Jun/2024 23:40:17] \"GET /mensagens_do_aluno/Thor HTTP/1.1\" 200 -\n",
            "INFO:werkzeug:127.0.0.1 - - [24/Jun/2024 23:43:07] \"OPTIONS /rei_do_chat HTTP/1.1\" 200 -\n",
            "INFO:werkzeug:127.0.0.1 - - [24/Jun/2024 23:43:07] \"GET /rei_do_chat HTTP/1.1\" 200 -\n",
            "INFO:werkzeug:127.0.0.1 - - [24/Jun/2024 23:43:10] \"GET /rei_do_chat HTTP/1.1\" 200 -\n",
            "INFO:werkzeug:127.0.0.1 - - [24/Jun/2024 23:43:18] \"OPTIONS /mensagens_do_aluno/Thor HTTP/1.1\" 200 -\n",
            "INFO:werkzeug:127.0.0.1 - - [24/Jun/2024 23:43:18] \"GET /mensagens_do_aluno/Thor HTTP/1.1\" 200 -\n",
            "INFO:werkzeug:127.0.0.1 - - [24/Jun/2024 23:43:19] \"OPTIONS /listar_alunos HTTP/1.1\" 200 -\n",
            "INFO:werkzeug:127.0.0.1 - - [24/Jun/2024 23:43:20] \"GET /listar_alunos HTTP/1.1\" 200 -\n",
            "INFO:werkzeug:127.0.0.1 - - [24/Jun/2024 23:45:37] \"OPTIONS /listar_alunos HTTP/1.1\" 200 -\n",
            "INFO:werkzeug:127.0.0.1 - - [24/Jun/2024 23:45:37] \"GET /listar_alunos HTTP/1.1\" 200 -\n",
            "INFO:werkzeug:127.0.0.1 - - [24/Jun/2024 23:45:41] \"OPTIONS /mensagens_do_aluno/THor HTTP/1.1\" 200 -\n",
            "INFO:werkzeug:127.0.0.1 - - [24/Jun/2024 23:45:41] \"GET /mensagens_do_aluno/THor HTTP/1.1\" 200 -\n",
            "INFO:werkzeug:127.0.0.1 - - [24/Jun/2024 23:45:49] \"OPTIONS /mensagens_do_aluno/null HTTP/1.1\" 200 -\n",
            "INFO:werkzeug:127.0.0.1 - - [24/Jun/2024 23:45:49] \"GET /mensagens_do_aluno/null HTTP/1.1\" 200 -\n",
            "INFO:werkzeug:127.0.0.1 - - [24/Jun/2024 23:45:53] \"OPTIONS /find_response/Batman HTTP/1.1\" 200 -\n",
            "INFO:werkzeug:127.0.0.1 - - [24/Jun/2024 23:45:53] \"GET /find_response/Batman HTTP/1.1\" 200 -\n",
            "INFO:werkzeug:127.0.0.1 - - [24/Jun/2024 23:49:04] \"OPTIONS /listar_alunos HTTP/1.1\" 200 -\n",
            "INFO:werkzeug:127.0.0.1 - - [24/Jun/2024 23:49:04] \"GET /listar_alunos HTTP/1.1\" 200 -\n",
            "INFO:werkzeug:127.0.0.1 - - [24/Jun/2024 23:49:14] \"OPTIONS /mensagens_do_aluno/THor HTTP/1.1\" 200 -\n",
            "INFO:werkzeug:127.0.0.1 - - [24/Jun/2024 23:49:15] \"GET /mensagens_do_aluno/THor HTTP/1.1\" 200 -\n",
            "INFO:werkzeug:127.0.0.1 - - [24/Jun/2024 23:49:21] \"OPTIONS /mensagens_do_aluno/null HTTP/1.1\" 200 -\n",
            "INFO:werkzeug:127.0.0.1 - - [24/Jun/2024 23:49:21] \"GET /mensagens_do_aluno/null HTTP/1.1\" 200 -\n",
            "INFO:werkzeug:127.0.0.1 - - [24/Jun/2024 23:49:28] \"OPTIONS /find_response/Batman HTTP/1.1\" 200 -\n",
            "INFO:werkzeug:127.0.0.1 - - [24/Jun/2024 23:49:28] \"GET /find_response/Batman HTTP/1.1\" 200 -\n",
            "INFO:werkzeug:127.0.0.1 - - [24/Jun/2024 23:51:02] \"OPTIONS /find_response/Batman HTTP/1.1\" 200 -\n",
            "INFO:werkzeug:127.0.0.1 - - [24/Jun/2024 23:51:03] \"GET /find_response/Batman HTTP/1.1\" 200 -\n",
            "INFO:werkzeug:127.0.0.1 - - [24/Jun/2024 23:51:06] \"OPTIONS /rei_do_chat HTTP/1.1\" 200 -\n",
            "INFO:werkzeug:127.0.0.1 - - [24/Jun/2024 23:51:07] \"GET /rei_do_chat HTTP/1.1\" 200 -\n",
            "INFO:werkzeug:127.0.0.1 - - [24/Jun/2024 23:51:15] \"OPTIONS /find_response/EU HTTP/1.1\" 200 -\n",
            "INFO:werkzeug:127.0.0.1 - - [24/Jun/2024 23:51:15] \"GET /find_response/EU HTTP/1.1\" 200 -\n",
            "INFO:werkzeug:127.0.0.1 - - [24/Jun/2024 23:54:37] \"OPTIONS /mensagens_do_aluno/Thor HTTP/1.1\" 200 -\n",
            "INFO:werkzeug:127.0.0.1 - - [24/Jun/2024 23:54:37] \"GET /mensagens_do_aluno/Thor HTTP/1.1\" 200 -\n",
            "INFO:werkzeug:127.0.0.1 - - [24/Jun/2024 23:57:14] \"OPTIONS /mensagens_do_aluno/Thor HTTP/1.1\" 200 -\n",
            "INFO:werkzeug:127.0.0.1 - - [24/Jun/2024 23:57:14] \"GET /mensagens_do_aluno/Thor HTTP/1.1\" 200 -\n",
            "INFO:werkzeug:127.0.0.1 - - [24/Jun/2024 23:58:41] \"OPTIONS /mensagens_do_aluno/Thor HTTP/1.1\" 200 -\n",
            "INFO:werkzeug:127.0.0.1 - - [24/Jun/2024 23:58:41] \"GET /mensagens_do_aluno/Thor HTTP/1.1\" 200 -\n",
            "INFO:werkzeug:127.0.0.1 - - [24/Jun/2024 23:59:22] \"OPTIONS /mensagens_do_aluno/Thor HTTP/1.1\" 200 -\n",
            "INFO:werkzeug:127.0.0.1 - - [24/Jun/2024 23:59:22] \"GET /mensagens_do_aluno/Thor HTTP/1.1\" 200 -\n",
            "INFO:werkzeug:127.0.0.1 - - [25/Jun/2024 00:01:09] \"OPTIONS /mensagens_do_aluno/Thor HTTP/1.1\" 200 -\n",
            "INFO:werkzeug:127.0.0.1 - - [25/Jun/2024 00:01:10] \"GET /mensagens_do_aluno/Thor HTTP/1.1\" 200 -\n",
            "INFO:werkzeug:127.0.0.1 - - [25/Jun/2024 00:01:35] \"OPTIONS /mensagens_do_aluno/null HTTP/1.1\" 200 -\n",
            "INFO:werkzeug:127.0.0.1 - - [25/Jun/2024 00:01:36] \"GET /mensagens_do_aluno/null HTTP/1.1\" 200 -\n",
            "INFO:werkzeug:127.0.0.1 - - [25/Jun/2024 00:01:36] \"OPTIONS /listar_alunos HTTP/1.1\" 200 -\n",
            "INFO:werkzeug:127.0.0.1 - - [25/Jun/2024 00:01:36] \"GET /listar_alunos HTTP/1.1\" 200 -\n",
            "INFO:werkzeug:127.0.0.1 - - [25/Jun/2024 00:01:45] \"OPTIONS /mensagens_do_aluno/Sansa%20Stark HTTP/1.1\" 200 -\n",
            "INFO:werkzeug:127.0.0.1 - - [25/Jun/2024 00:01:45] \"GET /mensagens_do_aluno/Sansa%20Stark HTTP/1.1\" 200 -\n",
            "INFO:werkzeug:127.0.0.1 - - [25/Jun/2024 00:01:48] \"OPTIONS /listar_alunos HTTP/1.1\" 200 -\n",
            "INFO:werkzeug:127.0.0.1 - - [25/Jun/2024 00:01:49] \"GET /listar_alunos HTTP/1.1\" 200 -\n",
            "INFO:werkzeug:127.0.0.1 - - [25/Jun/2024 00:01:57] \"OPTIONS /mensagens_do_aluno/Tony%20Stark HTTP/1.1\" 200 -\n",
            "INFO:werkzeug:127.0.0.1 - - [25/Jun/2024 00:01:57] \"GET /mensagens_do_aluno/Tony%20Stark HTTP/1.1\" 200 -\n",
            "INFO:werkzeug:127.0.0.1 - - [25/Jun/2024 00:03:56] \"OPTIONS /find_response/Batman HTTP/1.1\" 200 -\n",
            "INFO:werkzeug:127.0.0.1 - - [25/Jun/2024 00:03:56] \"GET /find_response/Batman HTTP/1.1\" 200 -\n",
            "INFO:werkzeug:127.0.0.1 - - [25/Jun/2024 00:04:11] \"OPTIONS /mensagens_do_aluno/Tony%20Stark HTTP/1.1\" 200 -\n",
            "INFO:werkzeug:127.0.0.1 - - [25/Jun/2024 00:04:11] \"GET /mensagens_do_aluno/Tony%20Stark HTTP/1.1\" 200 -\n",
            "INFO:werkzeug:127.0.0.1 - - [25/Jun/2024 00:04:18] \"OPTIONS /find_response/Eu HTTP/1.1\" 200 -\n",
            "INFO:werkzeug:127.0.0.1 - - [25/Jun/2024 00:04:19] \"GET /find_response/Eu HTTP/1.1\" 200 -\n",
            "INFO:werkzeug:127.0.0.1 - - [25/Jun/2024 00:05:26] \"OPTIONS /find_response/norte HTTP/1.1\" 200 -\n",
            "INFO:werkzeug:127.0.0.1 - - [25/Jun/2024 00:05:27] \"GET /find_response/norte HTTP/1.1\" 200 -\n",
            "INFO:werkzeug:127.0.0.1 - - [25/Jun/2024 00:05:35] \"OPTIONS /find_response/norte HTTP/1.1\" 200 -\n",
            "INFO:werkzeug:127.0.0.1 - - [25/Jun/2024 00:05:35] \"GET /find_response/norte HTTP/1.1\" 200 -\n",
            "INFO:werkzeug:127.0.0.1 - - [25/Jun/2024 00:05:43] \"OPTIONS /find_response/Batman HTTP/1.1\" 200 -\n",
            "INFO:werkzeug:127.0.0.1 - - [25/Jun/2024 00:05:43] \"GET /find_response/Batman HTTP/1.1\" 200 -\n",
            "INFO:werkzeug:127.0.0.1 - - [25/Jun/2024 00:05:53] \"OPTIONS /find_response/Eu HTTP/1.1\" 200 -\n",
            "INFO:werkzeug:127.0.0.1 - - [25/Jun/2024 00:05:54] \"GET /find_response/Eu HTTP/1.1\" 200 -\n",
            "INFO:werkzeug:127.0.0.1 - - [25/Jun/2024 00:06:15] \"OPTIONS /find_response/Norte HTTP/1.1\" 200 -\n",
            "INFO:werkzeug:127.0.0.1 - - [25/Jun/2024 00:06:15] \"GET /find_response/Norte HTTP/1.1\" 200 -\n",
            "INFO:werkzeug:127.0.0.1 - - [25/Jun/2024 00:06:33] \"OPTIONS /mensagens_do_aluno/Barry%20Allen HTTP/1.1\" 200 -\n",
            "INFO:werkzeug:127.0.0.1 - - [25/Jun/2024 00:06:34] \"GET /mensagens_do_aluno/Barry%20Allen HTTP/1.1\" 200 -\n",
            "INFO:werkzeug:127.0.0.1 - - [25/Jun/2024 00:06:45] \"OPTIONS /find_response/velocidade HTTP/1.1\" 200 -\n",
            "INFO:werkzeug:127.0.0.1 - - [25/Jun/2024 00:06:46] \"GET /find_response/velocidade HTTP/1.1\" 200 -\n",
            "INFO:werkzeug:127.0.0.1 - - [25/Jun/2024 00:07:01] \"OPTIONS /rei_do_chat HTTP/1.1\" 200 -\n",
            "INFO:werkzeug:127.0.0.1 - - [25/Jun/2024 00:07:02] \"GET /rei_do_chat HTTP/1.1\" 200 -\n",
            "INFO:werkzeug:127.0.0.1 - - [25/Jun/2024 00:07:03] \"OPTIONS /listar_alunos HTTP/1.1\" 200 -\n",
            "INFO:werkzeug:127.0.0.1 - - [25/Jun/2024 00:07:03] \"GET /listar_alunos HTTP/1.1\" 200 -\n",
            "INFO:werkzeug:127.0.0.1 - - [25/Jun/2024 00:07:12] \"OPTIONS /mensagens_do_aluno/Tyrion%20Lannister HTTP/1.1\" 200 -\n",
            "INFO:werkzeug:127.0.0.1 - - [25/Jun/2024 00:07:13] \"GET /mensagens_do_aluno/Tyrion%20Lannister HTTP/1.1\" 200 -\n",
            "INFO:werkzeug:127.0.0.1 - - [25/Jun/2024 00:07:25] \"OPTIONS /find_response/bebo HTTP/1.1\" 200 -\n",
            "INFO:werkzeug:127.0.0.1 - - [25/Jun/2024 00:07:25] \"GET /find_response/bebo HTTP/1.1\" 200 -\n",
            "INFO:werkzeug:127.0.0.1 - - [25/Jun/2024 00:07:56] \"OPTIONS /listar_alunos HTTP/1.1\" 200 -\n",
            "INFO:werkzeug:127.0.0.1 - - [25/Jun/2024 00:07:57] \"GET /listar_alunos HTTP/1.1\" 200 -\n",
            "INFO:werkzeug:127.0.0.1 - - [25/Jun/2024 00:08:07] \"OPTIONS /mensagens_do_aluno/Thor HTTP/1.1\" 200 -\n",
            "INFO:werkzeug:127.0.0.1 - - [25/Jun/2024 00:08:08] \"GET /mensagens_do_aluno/Thor HTTP/1.1\" 200 -\n",
            "INFO:werkzeug:127.0.0.1 - - [25/Jun/2024 00:08:18] \"OPTIONS /find_response/Odin HTTP/1.1\" 200 -\n",
            "INFO:werkzeug:127.0.0.1 - - [25/Jun/2024 00:08:18] \"GET /find_response/Odin HTTP/1.1\" 200 -\n",
            "INFO:werkzeug:127.0.0.1 - - [25/Jun/2024 00:08:24] \"OPTIONS /find_response/Eu HTTP/1.1\" 200 -\n",
            "INFO:werkzeug:127.0.0.1 - - [25/Jun/2024 00:08:24] \"GET /find_response/Eu HTTP/1.1\" 200 -\n",
            "INFO:werkzeug:127.0.0.1 - - [25/Jun/2024 00:08:29] \"OPTIONS /rei_do_chat HTTP/1.1\" 200 -\n",
            "INFO:werkzeug:127.0.0.1 - - [25/Jun/2024 00:08:29] \"GET /rei_do_chat HTTP/1.1\" 200 -\n"
          ]
        }
      ],
      "source": [
        "app = Flask(__name__)\n",
        "CORS(app)\n",
        "\n",
        "@app.route('/')\n",
        "def home():\n",
        "  return \"hello world!\"\n",
        "\n",
        "@app.route('/listar_alunos')\n",
        "def listar_alunos_route():\n",
        "  alunos = listar_alunos(\"/content/chat.txt\")\n",
        "  return alunos\n",
        "\n",
        "@app.route('/find_response/<palavra>')\n",
        "def call_response_detector(palavra):\n",
        "    alunos = encontrar_alunos_por_resposta('/content/chat.txt', palavra)\n",
        "    return alunos\n",
        "\n",
        "@app.route('/mensagens_do_aluno/<fulano>')\n",
        "def listar_msg_aluno(fulano):\n",
        "  falas = listar_mensagens_de_aluno(\"/content/chat.txt\",fulano)\n",
        "  return falas\n",
        "\n",
        "@app.route('/rei_do_chat')\n",
        "def listar_rei_do_chat():\n",
        "  aluno = aluno_rei_do_chat(\"/content/chat.txt\")\n",
        "  return aluno\n",
        "\n",
        "if __name__ == '__main__':\n",
        "    app.run(host='0.0.0.0', port=5000)\n"
      ]
    }
  ],
  "metadata": {
    "colab": {
      "provenance": [],
      "include_colab_link": true
    },
    "kernelspec": {
      "display_name": "Python 3",
      "name": "python3"
    },
    "language_info": {
      "name": "python"
    }
  },
  "nbformat": 4,
  "nbformat_minor": 0
}